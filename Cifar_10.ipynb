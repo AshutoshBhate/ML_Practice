{
 "cells": [
  {
   "cell_type": "code",
   "execution_count": 1,
   "id": "0268a408-8cdc-4e5e-9649-6305a064b3e1",
   "metadata": {},
   "outputs": [],
   "source": [
    "import tensorflow as tf\n",
    "from tensorflow.keras import datasets, layers, models\n",
    "import matplotlib.pyplot as plt\n",
    "import numpy as np"
   ]
  },
  {
   "cell_type": "code",
   "execution_count": 2,
   "id": "98cf4aa1-1b67-469f-a589-0a464559afd9",
   "metadata": {},
   "outputs": [],
   "source": [
    "(X_Train, Y_Train), (X_Test, Y_Test) = datasets.cifar10.load_data()"
   ]
  },
  {
   "cell_type": "code",
   "execution_count": 3,
   "id": "ca097020-2ced-447b-9656-b07ddded64c3",
   "metadata": {},
   "outputs": [
    {
     "data": {
      "text/plain": [
       "(50000, 32, 32, 3)"
      ]
     },
     "execution_count": 3,
     "metadata": {},
     "output_type": "execute_result"
    }
   ],
   "source": [
    "X_Train.shape"
   ]
  },
  {
   "cell_type": "code",
   "execution_count": 4,
   "id": "e19b0d95-f5e1-409f-80bb-e589e0244e0d",
   "metadata": {},
   "outputs": [
    {
     "data": {
      "text/plain": [
       "(10000, 32, 32, 3)"
      ]
     },
     "execution_count": 4,
     "metadata": {},
     "output_type": "execute_result"
    }
   ],
   "source": [
    "X_Test.shape"
   ]
  },
  {
   "cell_type": "code",
   "execution_count": 5,
   "id": "10311e18-c5d0-4020-a03a-76ffdddc991a",
   "metadata": {},
   "outputs": [
    {
     "data": {
      "text/plain": [
       "array([[[ 59,  62,  63],\n",
       "        [ 43,  46,  45],\n",
       "        [ 50,  48,  43],\n",
       "        ...,\n",
       "        [158, 132, 108],\n",
       "        [152, 125, 102],\n",
       "        [148, 124, 103]],\n",
       "\n",
       "       [[ 16,  20,  20],\n",
       "        [  0,   0,   0],\n",
       "        [ 18,   8,   0],\n",
       "        ...,\n",
       "        [123,  88,  55],\n",
       "        [119,  83,  50],\n",
       "        [122,  87,  57]],\n",
       "\n",
       "       [[ 25,  24,  21],\n",
       "        [ 16,   7,   0],\n",
       "        [ 49,  27,   8],\n",
       "        ...,\n",
       "        [118,  84,  50],\n",
       "        [120,  84,  50],\n",
       "        [109,  73,  42]],\n",
       "\n",
       "       ...,\n",
       "\n",
       "       [[208, 170,  96],\n",
       "        [201, 153,  34],\n",
       "        [198, 161,  26],\n",
       "        ...,\n",
       "        [160, 133,  70],\n",
       "        [ 56,  31,   7],\n",
       "        [ 53,  34,  20]],\n",
       "\n",
       "       [[180, 139,  96],\n",
       "        [173, 123,  42],\n",
       "        [186, 144,  30],\n",
       "        ...,\n",
       "        [184, 148,  94],\n",
       "        [ 97,  62,  34],\n",
       "        [ 83,  53,  34]],\n",
       "\n",
       "       [[177, 144, 116],\n",
       "        [168, 129,  94],\n",
       "        [179, 142,  87],\n",
       "        ...,\n",
       "        [216, 184, 140],\n",
       "        [151, 118,  84],\n",
       "        [123,  92,  72]]], dtype=uint8)"
      ]
     },
     "execution_count": 5,
     "metadata": {},
     "output_type": "execute_result"
    }
   ],
   "source": [
    "X_Train[0]"
   ]
  },
  {
   "cell_type": "code",
   "execution_count": 6,
   "id": "0f10eaff-bc31-4237-8fb0-c6c4c9e1b08e",
   "metadata": {},
   "outputs": [
    {
     "data": {
      "text/plain": [
       "(32, 32, 3)"
      ]
     },
     "execution_count": 6,
     "metadata": {},
     "output_type": "execute_result"
    }
   ],
   "source": [
    "X_Train[0].shape"
   ]
  },
  {
   "cell_type": "code",
   "execution_count": 7,
   "id": "272e42f3-1e21-4442-8353-62e2ff360c9d",
   "metadata": {},
   "outputs": [
    {
     "data": {
      "text/plain": [
       "(50000, 1)"
      ]
     },
     "execution_count": 7,
     "metadata": {},
     "output_type": "execute_result"
    }
   ],
   "source": [
    "Y_Train.shape"
   ]
  },
  {
   "cell_type": "code",
   "execution_count": 8,
   "id": "52bdf05e-750f-41b9-bd25-87c5263cbd7d",
   "metadata": {},
   "outputs": [
    {
     "data": {
      "text/plain": [
       "array([[6],\n",
       "       [9],\n",
       "       [9],\n",
       "       [4],\n",
       "       [1]], dtype=uint8)"
      ]
     },
     "execution_count": 8,
     "metadata": {},
     "output_type": "execute_result"
    }
   ],
   "source": [
    "Y_Train[:5]"
   ]
  },
  {
   "cell_type": "code",
   "execution_count": 9,
   "id": "c609fb61-2ed6-46d8-b38b-5b1b9a4c820d",
   "metadata": {},
   "outputs": [
    {
     "name": "stdout",
     "output_type": "stream",
     "text": [
      "[6 9 9 4 1 1]\n",
      "[3 8 8 0 6 6]\n"
     ]
    }
   ],
   "source": [
    "#Flatten the 2D Matrix\n",
    "Y_Train = Y_Train.reshape(-1, )\n",
    "Y_Test = Y_Test.reshape(-1, )\n",
    "print(Y_Train[:6])\n",
    "print(Y_Test[:6])"
   ]
  },
  {
   "cell_type": "code",
   "execution_count": 10,
   "id": "6bc0ecf1-d00b-4895-93da-a213e5089ffa",
   "metadata": {},
   "outputs": [
    {
     "data": {
      "text/plain": [
       "<matplotlib.image.AxesImage at 0x19f1e30ae90>"
      ]
     },
     "execution_count": 10,
     "metadata": {},
     "output_type": "execute_result"
    },
    {
     "data": {
      "image/png": "[encoded data removed]",
      "text/plain": [
       "<Figure size 640x480 with 1 Axes>"
      ]
     },
     "metadata": {},
     "output_type": "display_data"
    }
   ],
   "source": [
    "plt.imshow(X_Train[0])"
   ]
  },
  {
   "cell_type": "code",
   "execution_count": 11,
   "id": "282a2557-8b72-4776-b5fe-558fcc46ea52",
   "metadata": {},
   "outputs": [
    {
     "data": {
      "text/plain": [
       "<matplotlib.image.AxesImage at 0x19f2b532a10>"
      ]
     },
     "execution_count": 11,
     "metadata": {},
     "output_type": "execute_result"
    },
    {
     "data": {
      "image/png": "[encoded data removed]",
      "text/plain": [
       "<Figure size 640x480 with 1 Axes>"
      ]
     },
     "metadata": {},
     "output_type": "display_data"
    }
   ],
   "source": [
    "plt.imshow(X_Train[1])"
   ]
  },
  {
   "cell_type": "code",
   "execution_count": 12,
   "id": "135ee885-afb6-434f-99b8-f44283a3f45d",
   "metadata": {},
   "outputs": [
    {
     "data": {
      "text/plain": [
       "<matplotlib.image.AxesImage at 0x19f2b5a2cb0>"
      ]
     },
     "execution_count": 12,
     "metadata": {},
     "output_type": "execute_result"
    },
    {
     "data": {
      "image/png": "[encoded data removed]",
      "text/plain": [
       "<Figure size 1500x200 with 1 Axes>"
      ]
     },
     "metadata": {},
     "output_type": "display_data"
    }
   ],
   "source": [
    "#Resize image\n",
    "plt.figure(figsize = (15, 2))\n",
    "plt.imshow(X_Train[0])"
   ]
  },
  {
   "cell_type": "code",
   "execution_count": 13,
   "id": "4feac2a7-aa94-4d06-93b5-e85957cea5ce",
   "metadata": {},
   "outputs": [],
   "source": [
    "classes = ['airplane', 'automobile', 'bird', 'cat', 'deer', 'dog', 'frog', 'horse', 'ship', 'truck'] "
   ]
  },
  {
   "cell_type": "code",
   "execution_count": 14,
   "id": "2d77fa96-3f8c-4a3f-951b-8cbeb846af29",
   "metadata": {},
   "outputs": [
    {
     "data": {
      "text/plain": [
       "'truck'"
      ]
     },
     "execution_count": 14,
     "metadata": {},
     "output_type": "execute_result"
    }
   ],
   "source": [
    "classes[9]"
   ]
  },
  {
   "cell_type": "code",
   "execution_count": 15,
   "id": "d79814df-db37-4fe4-9664-5fcf9b493047",
   "metadata": {},
   "outputs": [],
   "source": [
    "#For quick data exploration:\n",
    "def plot_sample(X, Y, index):\n",
    "    plt.figure(figsize = (15, 2))\n",
    "    plt.imshow(X[index])\n",
    "    plt.xlabel(classes[Y[index]])"
   ]
  },
  {
   "cell_type": "code",
   "execution_count": 16,
   "id": "9e08c0c9-5d0b-42da-b652-f54951f18c21",
   "metadata": {},
   "outputs": [
    {
     "data": {
      "image/png": "[encoded data removed]",
      "text/plain": [
       "<Figure size 1500x200 with 1 Axes>"
      ]
     },
     "metadata": {},
     "output_type": "display_data"
    }
   ],
   "source": [
    "plot_sample(X_Train, Y_Train, 0)"
   ]
  },
  {
   "cell_type": "code",
   "execution_count": 17,
   "id": "50a43937-462d-4c49-ae3f-b4d7daddac70",
   "metadata": {},
   "outputs": [
    {
     "data": {
      "image/png": "[encoded data removed]",
      "text/plain": [
       "<Figure size 1500x200 with 1 Axes>"
      ]
     },
     "metadata": {},
     "output_type": "display_data"
    }
   ],
   "source": [
    "plot_sample(X_Train, Y_Train, 1)"
   ]
  },
  {
   "cell_type": "code",
   "execution_count": 18,
   "id": "a802acf1-aa93-41ae-8aee-21e4e60dec22",
   "metadata": {},
   "outputs": [
    {
     "data": {
      "text/plain": [
       "array([3, 8, 8, 0, 6], dtype=uint8)"
      ]
     },
     "execution_count": 18,
     "metadata": {},
     "output_type": "execute_result"
    }
   ],
   "source": [
    "Y_Test[:5]"
   ]
  },
  {
   "cell_type": "code",
   "execution_count": 20,
   "id": "a9d4d1fc-609a-4671-a7a5-f100c2e7168b",
   "metadata": {},
   "outputs": [],
   "source": [
    "#Turns out the X and Y are corresponding, even Test ones"
   ]
  },
  {
   "cell_type": "code",
   "execution_count": 43,
   "id": "6ab4d95c-b028-456f-8983-a1847e696b02",
   "metadata": {},
   "outputs": [],
   "source": [
    "#Now, we normalize our data"
   ]
  },
  {
   "cell_type": "code",
   "execution_count": 19,
   "id": "079002ba-6310-4256-9331-082dd2f9fd8c",
   "metadata": {},
   "outputs": [],
   "source": [
    "X_Train = X_Train/255.0\n",
    "X_Test = X_Test/255.0"
   ]
  },
  {
   "cell_type": "code",
   "execution_count": 47,
   "id": "47ca9ea0-d8e0-44af-9eb1-77c33ae92f86",
   "metadata": {},
   "outputs": [],
   "source": [
    "#Simple Artifical Neural Network:"
   ]
  },
  {
   "cell_type": "code",
   "execution_count": 20,
   "id": "74c8057f-1f35-4b2c-886a-9945cfce90da",
   "metadata": {},
   "outputs": [],
   "source": [
    "ANN = models.Sequential([\n",
    "    tf.keras.layers.Flatten(input_shape = (32, 32, 3)),  #Gives warnings\n",
    "    tf.keras.layers.Dense(3000, activation = 'relu'),\n",
    "    tf.keras.layers.Dense(1000, activation = 'relu'),\n",
    "    tf.keras.layers.Dense(100, activation = 'softmax')])\n",
    "\n",
    "ANN.compile(optimizer = 'SGD', loss = 'sparse_categorical_crossentropy', metrics = ['accuracy'])\n",
    "                          "
   ]
  },
  {
   "cell_type": "code",
   "execution_count": 21,
   "id": "42976e64-9200-4f16-9528-3e5c130580d6",
   "metadata": {},
   "outputs": [
    {
     "name": "stdout",
     "output_type": "stream",
     "text": [
      "Epoch 1/5\n",
      "1563/1563 [==============================] - 13s 6ms/step - loss: 1.8829 - accuracy: 0.3342\n",
      "Epoch 2/5\n",
      "1563/1563 [==============================] - 10s 6ms/step - loss: 1.6560 - accuracy: 0.4154\n",
      "Epoch 3/5\n",
      "1563/1563 [==============================] - 10s 6ms/step - loss: 1.5677 - accuracy: 0.4480\n",
      "Epoch 4/5\n",
      "1563/1563 [==============================] - 9s 6ms/step - loss: 1.5036 - accuracy: 0.4709\n",
      "Epoch 5/5\n",
      "1563/1563 [==============================] - 8s 5ms/step - loss: 1.4548 - accuracy: 0.4891\n"
     ]
    },
    {
     "data": {
      "text/plain": [
       "<keras.callbacks.History at 0x19f2b3e3fa0>"
      ]
     },
     "execution_count": 21,
     "metadata": {},
     "output_type": "execute_result"
    }
   ],
   "source": [
    "ANN.fit(X_Train, Y_Train, epochs = 5)"
   ]
  },
  {
   "cell_type": "code",
   "execution_count": 22,
   "id": "02163b81-8533-477f-a5c3-9b61adfe819a",
   "metadata": {},
   "outputs": [
    {
     "name": "stdout",
     "output_type": "stream",
     "text": [
      "313/313 [==============================] - 1s 4ms/step\n",
      "Classification Report: \n",
      "               precision    recall  f1-score   support\n",
      "\n",
      "           0       0.70      0.26      0.38      1000\n",
      "           1       0.69      0.51      0.58      1000\n",
      "           2       0.25      0.64      0.36      1000\n",
      "           3       0.29      0.56      0.38      1000\n",
      "           4       0.50      0.23      0.32      1000\n",
      "           5       0.57      0.17      0.27      1000\n",
      "           6       0.53      0.51      0.52      1000\n",
      "           7       0.63      0.45      0.53      1000\n",
      "           8       0.68      0.54      0.60      1000\n",
      "           9       0.54      0.60      0.57      1000\n",
      "\n",
      "    accuracy                           0.45     10000\n",
      "   macro avg       0.54      0.45      0.45     10000\n",
      "weighted avg       0.54      0.45      0.45     10000\n",
      "\n"
     ]
    }
   ],
   "source": [
    "from sklearn.metrics import confusion_matrix, classification_report\n",
    "import numpy as np\n",
    "Y_Pred = ANN.predict(X_Test)\n",
    "Y_Pred_Classes = [np.argmax(element) for element in Y_Pred]\n",
    "\n",
    "print(\"Classification Report: \\n\", classification_report(Y_Test, Y_Pred_Classes))"
   ]
  },
  {
   "cell_type": "code",
   "execution_count": 55,
   "id": "0cb6de10-e9e9-4474-82f0-6eca59241fcf",
   "metadata": {},
   "outputs": [
    {
     "name": "stdout",
     "output_type": "stream",
     "text": [
      "[[1.85991228e-02 2.06634048e-02 1.06320471e-01 2.81523794e-01\n",
      "  4.36276086e-02 2.50158995e-01 2.18536392e-01 4.75962041e-03\n",
      "  4.87434641e-02 5.26704034e-03 3.17519771e-05 2.48638698e-05\n",
      "  1.82704389e-05 2.35505413e-05 2.43517934e-05 2.38293287e-05\n",
      "  1.88197791e-05 2.23124989e-05 2.49386521e-05 2.74406539e-05\n",
      "  2.38791490e-05 2.58974196e-05 2.41144498e-05 1.75580990e-05\n",
      "  1.72167365e-05 1.74068118e-05 1.37370780e-05 7.41498798e-06\n",
      "  1.47291767e-05 1.64489884e-05 2.71223034e-05 1.25744555e-05\n",
      "  1.37909101e-05 1.71932752e-05 2.47813005e-05 1.56966325e-05\n",
      "  3.13239543e-05 1.71720039e-05 1.81855903e-05 1.87422611e-05\n",
      "  2.47899970e-05 2.23090319e-05 2.29143880e-05 1.65738729e-05\n",
      "  2.18262903e-05 2.06697987e-05 1.54670633e-05 1.93512788e-05\n",
      "  1.96062174e-05 1.86582092e-05 1.96860692e-05 1.89699185e-05\n",
      "  1.43233965e-05 1.20741115e-05 2.85429087e-05 2.10054368e-05\n",
      "  2.97175393e-05 1.22035699e-05 1.36128856e-05 2.58971013e-05\n",
      "  2.12073446e-05 1.59131632e-05 9.46125783e-06 1.08523527e-05\n",
      "  1.25270681e-05 1.76656085e-05 1.75771984e-05 1.35774644e-05\n",
      "  1.54006957e-05 1.74889119e-05 1.82396616e-05 1.97038007e-05\n",
      "  2.49782352e-05 1.41052742e-05 2.98185187e-05 2.57354695e-05\n",
      "  2.27779328e-05 1.54270383e-05 1.89149268e-05 1.63597215e-05\n",
      "  2.08975180e-05 2.78162970e-05 3.10436080e-05 3.02459230e-05\n",
      "  1.62855304e-05 1.47802830e-05 2.05844444e-05 1.93712949e-05\n",
      "  1.47675319e-05 1.43736288e-05 2.34394065e-05 1.90783376e-05\n",
      "  1.62412343e-05 2.94789097e-05 1.82822223e-05 1.01653459e-05\n",
      "  3.39212529e-05 2.12189971e-05 2.44565035e-05 2.25580152e-05]\n",
      " [9.92176831e-02 5.84285110e-02 3.39740049e-03 2.38624844e-03\n",
      "  1.39583379e-03 1.38756062e-03 3.96833988e-04 7.36126385e-04\n",
      "  4.78001297e-01 3.54610503e-01 4.84504994e-07 4.50259307e-07\n",
      "  3.84650718e-07 7.12540384e-07 4.72339508e-07 3.59534738e-07\n",
      "  3.89160334e-07 4.89520573e-07 2.99207414e-07 2.84580352e-07\n",
      "  5.97730718e-07 4.76340688e-07 1.15017224e-06 2.32308921e-07\n",
      "  4.38632298e-07 3.30187333e-07 3.76121733e-07 1.21819824e-07\n",
      "  1.97461532e-07 3.73443271e-07 1.00583907e-06 2.35995842e-07\n",
      "  4.91937328e-07 2.57986017e-07 1.00058185e-06 2.85740242e-07\n",
      "  5.09873473e-07 3.82450509e-07 3.64635582e-07 3.49178976e-07\n",
      "  3.97552924e-07 4.03655207e-07 1.08767199e-06 2.35007647e-07\n",
      "  5.09574022e-07 5.35060792e-07 5.36152868e-07 5.95874099e-07\n",
      "  5.33693026e-07 2.90776910e-07 4.36273524e-07 5.52043389e-07\n",
      "  3.49664816e-07 5.00944793e-07 3.66874275e-07 3.03146066e-07\n",
      "  4.39464287e-07 4.14396965e-07 7.06422554e-07 3.37957886e-07\n",
      "  4.17061642e-07 3.63385851e-07 3.80029832e-07 1.42392736e-07\n",
      "  4.19134608e-07 5.61839556e-07 1.97195817e-07 2.96655685e-07\n",
      "  3.31220861e-07 3.95792711e-07 5.25746657e-07 4.26407126e-07\n",
      "  3.73863372e-07 7.08108075e-07 9.04399712e-07 8.49367552e-07\n",
      "  5.51736036e-07 4.79861569e-07 4.81746497e-07 4.31093753e-07\n",
      "  5.84015140e-07 6.07331231e-07 6.52640892e-07 4.76465630e-07\n",
      "  8.04697379e-07 1.32820603e-07 2.70404684e-07 7.45210571e-07\n",
      "  3.43644842e-07 5.33870150e-07 4.78438608e-07 6.65605228e-07\n",
      "  3.08098237e-07 5.83231440e-07 4.69211557e-07 1.93735559e-07\n",
      "  4.78116988e-07 7.90517504e-07 2.50197957e-07 3.78116709e-07]\n",
      " [3.96789432e-01 4.82343100e-02 6.30291458e-03 3.29230702e-03\n",
      "  2.92085158e-03 4.48051747e-03 1.99325019e-04 3.88722890e-03\n",
      "  4.31244344e-01 1.02488630e-01 1.73464412e-06 2.32443995e-06\n",
      "  2.35501125e-06 2.14606871e-06 2.17542242e-06 1.49678772e-06\n",
      "  1.98433281e-06 2.43070167e-06 1.40578811e-06 1.35322830e-06\n",
      "  1.55143812e-06 1.83710245e-06 3.39184339e-06 8.21292872e-07\n",
      "  1.68530414e-06 1.53086046e-06 1.41324722e-06 5.21006541e-07\n",
      "  1.49559344e-06 1.36025540e-06 3.08717790e-06 1.19607785e-06\n",
      "  2.48935748e-06 1.22640540e-06 3.51870131e-06 1.52842858e-06\n",
      "  2.26088650e-06 1.75959974e-06 1.43866430e-06 1.18969353e-06\n",
      "  1.42061447e-06 1.86126056e-06 4.23147594e-06 1.51450797e-06\n",
      "  1.70263172e-06 2.09324071e-06 1.25015754e-06 1.98269095e-06\n",
      "  2.02352999e-06 1.07106268e-06 1.38165660e-06 1.94613040e-06\n",
      "  9.85221504e-07 1.69849284e-06 1.38042117e-06 1.36399149e-06\n",
      "  2.35971220e-06 1.51233871e-06 2.69856105e-06 1.81501923e-06\n",
      "  9.92378887e-07 1.38639768e-06 1.98339058e-06 7.58300075e-07\n",
      "  1.26810073e-06 1.30399837e-06 1.25438521e-06 1.56447879e-06\n",
      "  1.44677938e-06 2.50102471e-06 1.68157135e-06 1.88021795e-06\n",
      "  1.41373926e-06 2.78098491e-06 2.32436241e-06 3.38842960e-06\n",
      "  1.80304789e-06 1.94210543e-06 1.82989322e-06 1.55813871e-06\n",
      "  2.86625482e-06 2.25458189e-06 1.72278055e-06 1.58884154e-06\n",
      "  2.31249373e-06 6.13859470e-07 1.34729453e-06 2.21693494e-06\n",
      "  1.56368526e-06 1.54992824e-06 1.69981683e-06 2.00795716e-06\n",
      "  1.68154099e-06 1.74183356e-06 1.60135494e-06 9.88530587e-07\n",
      "  1.47337562e-06 2.41490193e-06 9.35692640e-07 1.48587071e-06]\n",
      " [3.35542560e-01 1.67963132e-02 8.56866091e-02 3.23662683e-02\n",
      "  3.28849293e-02 3.06289829e-02 3.55756376e-03 5.36531247e-02\n",
      "  3.79962176e-01 2.83378083e-02 8.52618450e-06 8.47795673e-06\n",
      "  9.42457336e-06 6.68531175e-06 6.03684839e-06 4.38547659e-06\n",
      "  4.62104390e-06 6.91583091e-06 5.56426539e-06 4.03853028e-06\n",
      "  7.36095853e-06 6.68874873e-06 1.05439949e-05 3.72912496e-06\n",
      "  4.71421254e-06 7.86662349e-06 5.22780601e-06 2.08239703e-06\n",
      "  3.74720685e-06 4.08841879e-06 6.28270118e-06 3.74895467e-06\n",
      "  7.01201589e-06 4.74246781e-06 9.53043036e-06 6.56094062e-06\n",
      "  1.00931902e-05 5.75362083e-06 4.41272505e-06 3.82092094e-06\n",
      "  5.64282527e-06 4.65975245e-06 1.00266288e-05 5.49462675e-06\n",
      "  7.89407659e-06 7.28947953e-06 6.51853725e-06 7.71975283e-06\n",
      "  8.47755291e-06 4.18640730e-06 4.36132768e-06 9.97520237e-06\n",
      "  3.63574304e-06 4.84988777e-06 4.79452365e-06 4.97857400e-06\n",
      "  8.20688001e-06 6.01868942e-06 8.02863542e-06 4.23790107e-06\n",
      "  8.13428142e-06 4.08174537e-06 4.43278486e-06 3.90179275e-06\n",
      "  4.42877490e-06 6.57470218e-06 4.11134670e-06 5.07071445e-06\n",
      "  5.06706465e-06 7.24391430e-06 5.24313964e-06 6.55440590e-06\n",
      "  5.88594185e-06 8.12088001e-06 1.00191055e-05 1.46346583e-05\n",
      "  8.50936885e-06 7.00362170e-06 7.30347983e-06 5.71306146e-06\n",
      "  8.91661875e-06 7.90625927e-06 1.12706839e-05 8.78115952e-06\n",
      "  9.31113300e-06 4.02637761e-06 4.10435769e-06 8.28616248e-06\n",
      "  6.26674773e-06 7.24627716e-06 6.72439319e-06 5.88679541e-06\n",
      "  5.98313272e-06 9.84183316e-06 4.21938284e-06 3.90428613e-06\n",
      "  7.56482495e-06 7.89314981e-06 6.64418849e-06 7.17049443e-06]\n",
      " [4.62240633e-03 1.81870197e-03 8.44381601e-02 3.83631103e-02\n",
      "  4.11104351e-01 7.93076456e-02 3.49494487e-01 1.84371974e-02\n",
      "  1.11513333e-02 8.39421758e-04 3.59142200e-06 6.21952768e-06\n",
      "  7.59325076e-06 6.88173031e-06 5.25997166e-06 5.61540901e-06\n",
      "  3.29343720e-06 4.03880722e-06 5.19341847e-06 5.21379025e-06\n",
      "  5.90844365e-06 4.68587132e-06 6.79845016e-06 5.01793284e-06\n",
      "  4.53378743e-06 5.09905385e-06 3.90450577e-06 2.20974289e-06\n",
      "  4.17322508e-06 2.28221779e-06 4.77258118e-06 2.98663622e-06\n",
      "  3.39622602e-06 4.71616477e-06 6.00475732e-06 4.83176836e-06\n",
      "  3.88192348e-06 3.37402798e-06 3.85286057e-06 4.88742307e-06\n",
      "  5.14723706e-06 6.31845933e-06 2.52400037e-06 5.11874714e-06\n",
      "  4.07289963e-06 4.12477448e-06 4.38404186e-06 4.84356997e-06\n",
      "  5.66177232e-06 4.66204210e-06 5.05758771e-06 7.00510373e-06\n",
      "  2.72130092e-06 3.64577363e-06 6.42373470e-06 5.31668366e-06\n",
      "  5.35920572e-06 2.74422723e-06 3.05050139e-06 6.19077946e-06\n",
      "  6.27119016e-06 4.76537707e-06 3.43489660e-06 2.51832375e-06\n",
      "  3.80456845e-06 3.52459506e-06 3.50249684e-06 3.20417439e-06\n",
      "  2.75443722e-06 5.34959054e-06 3.86888496e-06 4.47183083e-06\n",
      "  3.48918138e-06 4.36317896e-06 8.53410711e-06 7.22083496e-06\n",
      "  4.77676122e-06 5.89753381e-06 4.22964376e-06 5.82695748e-06\n",
      "  4.40963231e-06 6.03912304e-06 5.64856464e-06 3.56458486e-06\n",
      "  2.46766103e-06 8.00791258e-06 4.98398504e-06 7.56306326e-06\n",
      "  3.09125835e-06 3.43990882e-06 4.92441222e-06 4.36040818e-06\n",
      "  4.05576338e-06 3.85066005e-06 4.66061101e-06 3.35246159e-06\n",
      "  3.40209340e-06 5.89307547e-06 7.88339275e-06 5.20243066e-06]]\n",
      "[3, 8, 8, 8, 4]\n",
      "[3 8 8 0 6]\n"
     ]
    }
   ],
   "source": [
    "print(Y_Pred[:5])  # Predicted probabilities\n",
    "print(Y_Pred_Classes[:5])  # Predicted class labels\n",
    "print(Y_Test[:5])  # True class labels"
   ]
  },
  {
   "cell_type": "code",
   "execution_count": 85,
   "id": "1f300ffd-fd85-4669-bc19-ab88e38ed9c8",
   "metadata": {},
   "outputs": [],
   "source": [
    "#Now let us use CNN to improve performance of model"
   ]
  },
  {
   "cell_type": "code",
   "execution_count": 23,
   "id": "a8c55e29-6702-4e9c-a091-5b4c521e3df6",
   "metadata": {},
   "outputs": [],
   "source": [
    "CNN = models.Sequential([\n",
    "    #CNN Layer\n",
    "    layers.Conv2D(filters = 32, kernel_size = (3, 3), activation = 'relu', input_shape = (32, 32, 3)),  #Can detect 32 different features/edges\n",
    "    layers.MaxPooling2D((2, 2)),\n",
    "\n",
    "    layers.Conv2D(filters = 64, kernel_size = (3, 3), activation = 'relu'),  #Can detect 32 different features/edges\n",
    "    layers.MaxPooling2D((2, 2)),\n",
    "    \n",
    "    layers.Conv2D(filters = 128, kernel_size = (3, 3), activation = 'relu'),  #Can detect 32 different features/edges\n",
    "    layers.MaxPooling2D((2, 2)),\n",
    "    \n",
    "    #Dense Layer, no need to specify space in middle layer\n",
    "    layers.Flatten(),\n",
    "    tf.keras.layers.Dense(64, activation = 'relu'),\n",
    "    tf.keras.layers.Dense(10, activation = 'softmax')])  #Softmax layer will normalize probability"
   ]
  },
  {
   "cell_type": "code",
   "execution_count": 59,
   "id": "75f130f1-b848-4b1d-99ff-284bf8fa2387",
   "metadata": {},
   "outputs": [
    {
     "data": {
      "text/plain": [
       "'\\nSigmoid:\\nClass 1: 0.45\\nClass 2: 0.67\\n\\nSoftmax:\\nClass 1: (0.45)/(0.45 + 0.67)\\nClass 2: (0.67)/(0.45 + 0.67)\\n\\nSum always 1 of softmax\\n'"
      ]
     },
     "execution_count": 59,
     "metadata": {},
     "output_type": "execute_result"
    }
   ],
   "source": [
    "'''\n",
    "Sigmoid:\n",
    "Class 1: 0.45\n",
    "Class 2: 0.67\n",
    "\n",
    "Softmax:\n",
    "Class 1: (0.45)/(0.45 + 0.67)\n",
    "Class 2: (0.67)/(0.45 + 0.67)\n",
    "\n",
    "Sum always 1 of softmax\n",
    "'''"
   ]
  },
  {
   "cell_type": "code",
   "execution_count": 24,
   "id": "8bacd59e-8757-4552-8a01-18be84c9960b",
   "metadata": {},
   "outputs": [],
   "source": [
    "CNN.compile(optimizer = 'adam',\n",
    "            loss = 'sparse_categorical_crossentropy',\n",
    "            metrics = ['accuracy'])"
   ]
  },
  {
   "cell_type": "code",
   "execution_count": 25,
   "id": "43f96cf8-ea2c-496b-9689-f8901a944ead",
   "metadata": {},
   "outputs": [
    {
     "name": "stdout",
     "output_type": "stream",
     "text": [
      "Epoch 1/20\n",
      "1563/1563 [==============================] - 20s 6ms/step - loss: 1.5195 - accuracy: 0.4463\n",
      "Epoch 2/20\n",
      "1563/1563 [==============================] - 9s 6ms/step - loss: 1.1382 - accuracy: 0.6010\n",
      "Epoch 3/20\n",
      "1563/1563 [==============================] - 12s 8ms/step - loss: 0.9885 - accuracy: 0.6554\n",
      "Epoch 4/20\n",
      "1563/1563 [==============================] - 16s 10ms/step - loss: 0.8876 - accuracy: 0.6924\n",
      "Epoch 5/20\n",
      "1563/1563 [==============================] - 10s 6ms/step - loss: 0.8189 - accuracy: 0.7170\n",
      "Epoch 6/20\n",
      "1563/1563 [==============================] - 10s 6ms/step - loss: 0.7545 - accuracy: 0.7378\n",
      "Epoch 7/20\n",
      "1563/1563 [==============================] - 11s 7ms/step - loss: 0.6999 - accuracy: 0.7558\n",
      "Epoch 8/20\n",
      "1563/1563 [==============================] - 10s 6ms/step - loss: 0.6534 - accuracy: 0.7711\n",
      "Epoch 9/20\n",
      "1563/1563 [==============================] - 10s 6ms/step - loss: 0.6131 - accuracy: 0.7850\n",
      "Epoch 10/20\n",
      "1563/1563 [==============================] - 10s 6ms/step - loss: 0.5744 - accuracy: 0.7970\n",
      "Epoch 11/20\n",
      "1563/1563 [==============================] - 9s 6ms/step - loss: 0.5386 - accuracy: 0.8112\n",
      "Epoch 12/20\n",
      "1563/1563 [==============================] - 10s 6ms/step - loss: 0.5097 - accuracy: 0.8192\n",
      "Epoch 13/20\n",
      "1563/1563 [==============================] - 10s 6ms/step - loss: 0.4734 - accuracy: 0.8320\n",
      "Epoch 14/20\n",
      "1563/1563 [==============================] - 11s 7ms/step - loss: 0.4467 - accuracy: 0.8411\n",
      "Epoch 15/20\n",
      "1563/1563 [==============================] - 10s 6ms/step - loss: 0.4174 - accuracy: 0.8530\n",
      "Epoch 16/20\n",
      "1563/1563 [==============================] - 10s 7ms/step - loss: 0.3966 - accuracy: 0.8580\n",
      "Epoch 17/20\n",
      "1563/1563 [==============================] - 10s 6ms/step - loss: 0.3635 - accuracy: 0.8683\n",
      "Epoch 18/20\n",
      "1563/1563 [==============================] - 10s 7ms/step - loss: 0.3495 - accuracy: 0.8749\n",
      "Epoch 19/20\n",
      "1563/1563 [==============================] - 10s 6ms/step - loss: 0.3216 - accuracy: 0.8831\n",
      "Epoch 20/20\n",
      "1563/1563 [==============================] - 10s 7ms/step - loss: 0.3075 - accuracy: 0.8895\n"
     ]
    },
    {
     "data": {
      "text/plain": [
       "<keras.callbacks.History at 0x1a0af55c640>"
      ]
     },
     "execution_count": 25,
     "metadata": {},
     "output_type": "execute_result"
    }
   ],
   "source": [
    "CNN.fit(X_Train, Y_Train, epochs = 20)"
   ]
  },
  {
   "cell_type": "code",
   "execution_count": 26,
   "id": "8c3ecb64-89e9-474d-a968-5f3faaea3f6f",
   "metadata": {},
   "outputs": [
    {
     "name": "stdout",
     "output_type": "stream",
     "text": [
      "313/313 [==============================] - 3s 7ms/step - loss: 1.1449 - accuracy: 0.7082\n"
     ]
    },
    {
     "data": {
      "text/plain": [
       "[1.1448612213134766, 0.7081999778747559]"
      ]
     },
     "execution_count": 26,
     "metadata": {},
     "output_type": "execute_result"
    }
   ],
   "source": [
    "CNN.evaluate(X_Test, Y_Test)"
   ]
  },
  {
   "cell_type": "code",
   "execution_count": 27,
   "id": "b0dd95c9-69a5-4c53-9ecf-f2e94da1efdb",
   "metadata": {},
   "outputs": [
    {
     "data": {
      "image/png": "[encoded data removed]",
      "text/plain": [
       "<Figure size 1500x200 with 1 Axes>"
      ]
     },
     "metadata": {},
     "output_type": "display_data"
    }
   ],
   "source": [
    "plot_sample(X_Test, Y_Test, 1)"
   ]
  },
  {
   "cell_type": "code",
   "execution_count": 69,
   "id": "6447c5e8-607a-4f95-816a-85d11b9ea1f6",
   "metadata": {},
   "outputs": [
    {
     "data": {
      "image/png": "[encoded data removed]",
      "text/plain": [
       "<Figure size 1500x200 with 1 Axes>"
      ]
     },
     "metadata": {},
     "output_type": "display_data"
    }
   ],
   "source": [
    "plot_sample(X_Test, Y_Test, 0)"
   ]
  },
  {
   "cell_type": "code",
   "execution_count": 63,
   "id": "7c60798f-50ef-4d3f-b156-91831a57b5b7",
   "metadata": {},
   "outputs": [],
   "source": [
    "#Now let's use the model to predict this and see how it performs"
   ]
  },
  {
   "cell_type": "code",
   "execution_count": 28,
   "id": "d92f75f3-9dbd-4de4-a6ed-fc5df4fe8f81",
   "metadata": {},
   "outputs": [
    {
     "name": "stdout",
     "output_type": "stream",
     "text": [
      "313/313 [==============================] - 1s 4ms/step\n"
     ]
    },
    {
     "data": {
      "text/plain": [
       "array([[2.52971731e-05, 5.18433467e-07, 1.68882878e-04, 1.83211833e-01,\n",
       "        1.23243717e-06, 8.15825939e-01, 7.65406643e-04, 5.61613319e-07,\n",
       "        2.64765646e-07, 3.95849534e-11],\n",
       "       [1.67122018e-03, 4.45412487e-01, 4.84240701e-08, 9.67404490e-10,\n",
       "        2.34610681e-07, 1.30997825e-11, 2.82370904e-09, 4.35767555e-09,\n",
       "        5.51776767e-01, 1.13918469e-03],\n",
       "       [8.14117026e-03, 8.83539140e-01, 3.72427144e-06, 3.52798845e-04,\n",
       "        2.05306660e-05, 1.80275565e-05, 2.60047291e-05, 1.89239126e-05,\n",
       "        5.29707037e-02, 5.49088567e-02],\n",
       "       [9.99936342e-01, 1.07200740e-05, 8.05775642e-07, 4.07009029e-05,\n",
       "        7.14274933e-08, 3.49988059e-11, 3.01553285e-07, 6.95661445e-11,\n",
       "        9.81951234e-06, 1.28587601e-06],\n",
       "       [1.42322428e-12, 4.80945873e-11, 9.02447198e-07, 1.17793779e-05,\n",
       "        2.87926919e-03, 4.90417449e-08, 9.97107923e-01, 3.95584130e-12,\n",
       "        6.02434325e-10, 2.43931806e-12]], dtype=float32)"
      ]
     },
     "execution_count": 28,
     "metadata": {},
     "output_type": "execute_result"
    }
   ],
   "source": [
    "Y_Pred = CNN.predict(X_Test)\n",
    "Y_Pred[:5]"
   ]
  },
  {
   "cell_type": "code",
   "execution_count": 73,
   "id": "5d19da22-bca0-468b-ba0c-aa11a9c79830",
   "metadata": {},
   "outputs": [],
   "source": [
    "#Values in each of these elements are probability distribution between zero and one. It's\n",
    "#using SoftMax"
   ]
  },
  {
   "cell_type": "code",
   "execution_count": 75,
   "id": "6ed673a3-14bf-408a-93c0-9b17d0adb197",
   "metadata": {},
   "outputs": [
    {
     "data": {
      "text/plain": [
       "2"
      ]
     },
     "execution_count": 75,
     "metadata": {},
     "output_type": "execute_result"
    }
   ],
   "source": [
    "np.argmax([5, 12, 18])"
   ]
  },
  {
   "cell_type": "code",
   "execution_count": 29,
   "id": "38de27a3-6f46-4ad5-8a9b-aa753934bdad",
   "metadata": {},
   "outputs": [
    {
     "data": {
      "text/plain": [
       "5"
      ]
     },
     "execution_count": 29,
     "metadata": {},
     "output_type": "execute_result"
    }
   ],
   "source": [
    "np.argmax(Y_Pred[0])"
   ]
  },
  {
   "cell_type": "code",
   "execution_count": 30,
   "id": "fe809856-a0a8-4aea-8ac9-099b196eac65",
   "metadata": {},
   "outputs": [
    {
     "data": {
      "text/plain": [
       "[5, 8, 1, 0, 6]"
      ]
     },
     "execution_count": 30,
     "metadata": {},
     "output_type": "execute_result"
    }
   ],
   "source": [
    "Y_Classes = [np.argmax(element) for element in Y_Pred]\n",
    "Y_Classes[:5]"
   ]
  },
  {
   "cell_type": "code",
   "execution_count": 31,
   "id": "9c944a56-4ede-4c49-ae46-efcbb038c8bf",
   "metadata": {},
   "outputs": [
    {
     "data": {
      "text/plain": [
       "array([3, 8, 8, 0, 6], dtype=uint8)"
      ]
     },
     "execution_count": 31,
     "metadata": {},
     "output_type": "execute_result"
    }
   ],
   "source": [
    "Y_Test[:5]"
   ]
  },
  {
   "cell_type": "code",
   "execution_count": 83,
   "id": "e8fedfab-4c55-40bc-8bbe-2efeab7d7e25",
   "metadata": {},
   "outputs": [],
   "source": [
    "#Okay so it prdicted first one as a cat correctly"
   ]
  },
  {
   "cell_type": "code",
   "execution_count": 32,
   "id": "67c6893b-608a-45d5-8d6e-303aae36cbf4",
   "metadata": {},
   "outputs": [
    {
     "data": {
      "text/plain": [
       "['airplane',\n",
       " 'automobile',\n",
       " 'bird',\n",
       " 'cat',\n",
       " 'deer',\n",
       " 'dog',\n",
       " 'frog',\n",
       " 'horse',\n",
       " 'ship',\n",
       " 'truck']"
      ]
     },
     "execution_count": 32,
     "metadata": {},
     "output_type": "execute_result"
    }
   ],
   "source": [
    "classes"
   ]
  },
  {
   "cell_type": "code",
   "execution_count": 87,
   "id": "9c66b1a0-d9fc-482d-b54f-d14116aaf1e7",
   "metadata": {},
   "outputs": [
    {
     "data": {
      "image/png": "[encoded data removed]",
      "text/plain": [
       "<Figure size 1500x200 with 1 Axes>"
      ]
     },
     "metadata": {},
     "output_type": "display_data"
    }
   ],
   "source": [
    "plot_sample(X_Test, Y_Test, 1)"
   ]
  },
  {
   "cell_type": "code",
   "execution_count": 89,
   "id": "54866681-f891-41d9-8600-5a5aab0b69c3",
   "metadata": {},
   "outputs": [
    {
     "data": {
      "text/plain": [
       "'ship'"
      ]
     },
     "execution_count": 89,
     "metadata": {},
     "output_type": "execute_result"
    }
   ],
   "source": [
    "classes[Y_Classes[1]]"
   ]
  },
  {
   "cell_type": "code",
   "execution_count": 91,
   "id": "c7d93d44-f682-47f8-8ea2-8129b91f9c0a",
   "metadata": {},
   "outputs": [],
   "source": [
    "#Again correctly predicted ship"
   ]
  },
  {
   "cell_type": "code",
   "execution_count": 33,
   "id": "28bbcaf9-ed9a-4483-a8af-ff6b284aaff9",
   "metadata": {},
   "outputs": [
    {
     "name": "stdout",
     "output_type": "stream",
     "text": [
      "Classification Report: \n",
      "               precision    recall  f1-score   support\n",
      "\n",
      "           0       0.77      0.68      0.72      1000\n",
      "           1       0.79      0.85      0.82      1000\n",
      "           2       0.59      0.60      0.60      1000\n",
      "           3       0.54      0.52      0.53      1000\n",
      "           4       0.66      0.68      0.67      1000\n",
      "           5       0.67      0.57      0.62      1000\n",
      "           6       0.79      0.73      0.76      1000\n",
      "           7       0.71      0.81      0.76      1000\n",
      "           8       0.80      0.83      0.81      1000\n",
      "           9       0.76      0.81      0.78      1000\n",
      "\n",
      "    accuracy                           0.71     10000\n",
      "   macro avg       0.71      0.71      0.71     10000\n",
      "weighted avg       0.71      0.71      0.71     10000\n",
      "\n"
     ]
    }
   ],
   "source": [
    "print(\"Classification Report: \\n\", classification_report(Y_Test, Y_Classes))"
   ]
  },
  {
   "cell_type": "code",
   "execution_count": 95,
   "id": "a5f2ab16-b4a1-4312-81d3-bea9cbe5b9f8",
   "metadata": {},
   "outputs": [],
   "source": [
    "#Better numbers. CNN also has less computation due to maxPooling"
   ]
  },
  {
   "cell_type": "code",
   "execution_count": null,
   "id": "379bf5b4-3ddd-488b-9bdd-a311f48c3c14",
   "metadata": {},
   "outputs": [],
   "source": []
  }
 ],
 "metadata": {
  "kernelspec": {
   "display_name": "py310",
   "language": "python",
   "name": "python3"
  },
  "language_info": {
   "codemirror_mode": {
    "name": "ipython",
    "version": 3
   },
   "file_extension": ".py",
   "mimetype": "text/x-python",
   "name": "python",
   "nbconvert_exporter": "python",
   "pygments_lexer": "ipython3",
   "version": "3.10.16"
  }
 },
 "nbformat": 4,
 "nbformat_minor": 5
}
