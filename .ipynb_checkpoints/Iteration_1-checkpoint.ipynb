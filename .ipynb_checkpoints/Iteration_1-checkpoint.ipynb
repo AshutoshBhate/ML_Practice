{
 "cells": [
  {
   "cell_type": "code",
   "execution_count": null,
   "id": "ba91f119-5b88-43d8-b2e9-20d68c070cb1",
   "metadata": {},
   "outputs": [],
   "source": []
  }
 ],
 "metadata": {
  "kernelspec": {
   "display_name": "Python [conda env:py310]",
   "language": "python",
   "name": "conda-env-py310-py"
  },
  "language_info": {
   "codemirror_mode": {
    "name": "ipython",
    "version": 3
   },
   "file_extension": ".py",
   "mimetype": "text/x-python",
   "name": "python",
   "nbconvert_exporter": "python",
   "pygments_lexer": "ipython3",
   "version": "3.10.16"
  }
 },
 "nbformat": 4,
 "nbformat_minor": 5
}
