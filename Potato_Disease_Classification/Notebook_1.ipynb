{
 "cells": [
  {
   "cell_type": "code",
   "execution_count": 3,
   "id": "e0726665-2da9-4910-a91c-dc7c535de1ff",
   "metadata": {},
   "outputs": [],
   "source": [
    "import tensorflow as tf\n",
    "from tensorflow.keras import models, layers\n",
    "import matplotlib.pyplot as plt"
   ]
  },
  {
   "cell_type": "code",
   "execution_count": 21,
   "id": "b66f1c63-37c9-4236-85df-4aa2283c39da",
   "metadata": {},
   "outputs": [],
   "source": [
    "Image_Size = 256\n",
    "Batch_Size = 32\n",
    "Channels = 32"
   ]
  },
  {
   "cell_type": "code",
   "execution_count": 7,
   "id": "e280cd9f-d00b-4bb8-97ba-c532f8dc18db",
   "metadata": {},
   "outputs": [
    {
     "name": "stdout",
     "output_type": "stream",
     "text": [
      "Found 2152 files belonging to 3 classes.\n"
     ]
    }
   ],
   "source": [
    "dataset = tf.keras.preprocessing.image_dataset_from_directory(\n",
    "    'PlantVillage', shuffle = True, image_size = (Image_Size, Image_Size), \n",
    "    batch_size = Batch_Size\n",
    "    )"
   ]
  },
  {
   "cell_type": "code",
   "execution_count": 17,
   "id": "979afb31-e4a2-4f80-8552-8dae8ef78139",
   "metadata": {},
   "outputs": [
    {
     "data": {
      "text/plain": [
       "tensorflow.python.data.ops.dataset_ops.BatchDataset"
      ]
     },
     "execution_count": 17,
     "metadata": {},
     "output_type": "execute_result"
    }
   ],
   "source": [
    "type(dataset)"
   ]
  },
  {
   "cell_type": "code",
   "execution_count": 9,
   "id": "06f8da07-5cc3-4645-978c-3566503988e3",
   "metadata": {},
   "outputs": [
    {
     "data": {
      "text/plain": [
       "['Potato___Early_blight', 'Potato___Late_blight', 'Potato___healthy']"
      ]
     },
     "execution_count": 9,
     "metadata": {},
     "output_type": "execute_result"
    }
   ],
   "source": [
    "Class_Names = dataset.class_names\n",
    "Class_Names"
   ]
  },
  {
   "cell_type": "code",
   "execution_count": 13,
   "id": "7e1de704-643c-4d77-9d88-041eaf41d9d3",
   "metadata": {},
   "outputs": [
    {
     "data": {
      "text/plain": [
       "68"
      ]
     },
     "execution_count": 13,
     "metadata": {},
     "output_type": "execute_result"
    }
   ],
   "source": [
    "#Batches = 32. Files = 2152. Files/Batches = 67.25\n",
    "#68 * 32 = 2176\n",
    "len(dataset)"
   ]
  },
  {
   "cell_type": "code",
   "execution_count": 19,
   "id": "75674d66-1353-49e1-9000-8f55f42c5934",
   "metadata": {},
   "outputs": [
    {
     "name": "stdout",
     "output_type": "stream",
     "text": [
      "(32, 256, 256, 3)\n",
      "[0 0 1 0 0 1 1 1 1 1 0 1 1 1 1 1 1 1 0 0 2 1 2 1 1 0 1 0 0 1 0 0]\n"
     ]
    }
   ],
   "source": [
    "for image_batch, label_batch in dataset.take(1):    #dataset was created as pairs of (image, label)\n",
    "    print(image_batch.shape)\n",
    "    print(label_batch.numpy())"
   ]
  },
  {
   "cell_type": "code",
   "execution_count": 27,
   "id": "b8673b2d-1e61-4a7d-bfce-4b99900651d4",
   "metadata": {},
   "outputs": [
    {
     "name": "stdout",
     "output_type": "stream",
     "text": [
      "<class 'tensorflow.python.framework.ops.EagerTensor'>\n",
      "<class 'tensorflow.python.framework.ops.EagerTensor'>\n"
     ]
    }
   ],
   "source": [
    "print(type(image_batch))\n",
    "print(type(label_batch))"
   ]
  },
  {
   "cell_type": "code",
   "execution_count": 29,
   "id": "20efb7d8-7732-42c0-90c1-64c5c5f480a2",
   "metadata": {},
   "outputs": [
    {
     "data": {
      "text/plain": [
       "<tf.Tensor: shape=(256, 256, 3), dtype=float32, numpy=\n",
       "array([[[154., 152., 166.],\n",
       "        [152., 150., 164.],\n",
       "        [151., 149., 163.],\n",
       "        ...,\n",
       "        [140., 139., 153.],\n",
       "        [140., 139., 153.],\n",
       "        [137., 136., 150.]],\n",
       "\n",
       "       [[158., 156., 170.],\n",
       "        [156., 154., 168.],\n",
       "        [155., 153., 167.],\n",
       "        ...,\n",
       "        [134., 133., 147.],\n",
       "        [140., 139., 153.],\n",
       "        [142., 141., 155.]],\n",
       "\n",
       "       [[162., 160., 174.],\n",
       "        [160., 158., 172.],\n",
       "        [159., 157., 171.],\n",
       "        ...,\n",
       "        [137., 136., 150.],\n",
       "        [146., 145., 159.],\n",
       "        [152., 151., 165.]],\n",
       "\n",
       "       ...,\n",
       "\n",
       "       [[186., 183., 192.],\n",
       "        [184., 181., 190.],\n",
       "        [180., 177., 186.],\n",
       "        ...,\n",
       "        [185., 180., 186.],\n",
       "        [173., 168., 174.],\n",
       "        [172., 167., 173.]],\n",
       "\n",
       "       [[185., 182., 191.],\n",
       "        [182., 179., 188.],\n",
       "        [179., 176., 185.],\n",
       "        ...,\n",
       "        [168., 163., 169.],\n",
       "        [160., 155., 161.],\n",
       "        [162., 157., 163.]],\n",
       "\n",
       "       [[184., 181., 190.],\n",
       "        [183., 180., 189.],\n",
       "        [182., 179., 188.],\n",
       "        ...,\n",
       "        [165., 160., 166.],\n",
       "        [168., 163., 169.],\n",
       "        [180., 175., 181.]]], dtype=float32)>"
      ]
     },
     "execution_count": 29,
     "metadata": {},
     "output_type": "execute_result"
    }
   ],
   "source": [
    "image_batch[0]"
   ]
  },
  {
   "cell_type": "code",
   "execution_count": 39,
   "id": "c0909e4f-7979-4d23-a29b-19ca2aa56b38",
   "metadata": {},
   "outputs": [
    {
     "data": {
      "text/plain": [
       "TensorShape([256, 256, 3])"
      ]
     },
     "execution_count": 39,
     "metadata": {},
     "output_type": "execute_result"
    }
   ],
   "source": [
    "image_batch[0].shape"
   ]
  },
  {
   "cell_type": "code",
   "execution_count": 31,
   "id": "2cef2c98-438b-4886-8245-79f39aa27479",
   "metadata": {},
   "outputs": [
    {
     "data": {
      "text/plain": [
       "array([[[154., 152., 166.],\n",
       "        [152., 150., 164.],\n",
       "        [151., 149., 163.],\n",
       "        ...,\n",
       "        [140., 139., 153.],\n",
       "        [140., 139., 153.],\n",
       "        [137., 136., 150.]],\n",
       "\n",
       "       [[158., 156., 170.],\n",
       "        [156., 154., 168.],\n",
       "        [155., 153., 167.],\n",
       "        ...,\n",
       "        [134., 133., 147.],\n",
       "        [140., 139., 153.],\n",
       "        [142., 141., 155.]],\n",
       "\n",
       "       [[162., 160., 174.],\n",
       "        [160., 158., 172.],\n",
       "        [159., 157., 171.],\n",
       "        ...,\n",
       "        [137., 136., 150.],\n",
       "        [146., 145., 159.],\n",
       "        [152., 151., 165.]],\n",
       "\n",
       "       ...,\n",
       "\n",
       "       [[186., 183., 192.],\n",
       "        [184., 181., 190.],\n",
       "        [180., 177., 186.],\n",
       "        ...,\n",
       "        [185., 180., 186.],\n",
       "        [173., 168., 174.],\n",
       "        [172., 167., 173.]],\n",
       "\n",
       "       [[185., 182., 191.],\n",
       "        [182., 179., 188.],\n",
       "        [179., 176., 185.],\n",
       "        ...,\n",
       "        [168., 163., 169.],\n",
       "        [160., 155., 161.],\n",
       "        [162., 157., 163.]],\n",
       "\n",
       "       [[184., 181., 190.],\n",
       "        [183., 180., 189.],\n",
       "        [182., 179., 188.],\n",
       "        ...,\n",
       "        [165., 160., 166.],\n",
       "        [168., 163., 169.],\n",
       "        [180., 175., 181.]]], dtype=float32)"
      ]
     },
     "execution_count": 31,
     "metadata": {},
     "output_type": "execute_result"
    }
   ],
   "source": [
    "image_batch[0].numpy()"
   ]
  },
  {
   "cell_type": "code",
   "execution_count": 37,
   "id": "889b9292-02bb-48bb-b17c-933e78a06b46",
   "metadata": {},
   "outputs": [
    {
     "data": {
      "text/plain": [
       "array([[[[154., 152., 166.],\n",
       "         [152., 150., 164.],\n",
       "         [151., 149., 163.],\n",
       "         ...,\n",
       "         [140., 139., 153.],\n",
       "         [140., 139., 153.],\n",
       "         [137., 136., 150.]],\n",
       "\n",
       "        [[158., 156., 170.],\n",
       "         [156., 154., 168.],\n",
       "         [155., 153., 167.],\n",
       "         ...,\n",
       "         [134., 133., 147.],\n",
       "         [140., 139., 153.],\n",
       "         [142., 141., 155.]],\n",
       "\n",
       "        [[162., 160., 174.],\n",
       "         [160., 158., 172.],\n",
       "         [159., 157., 171.],\n",
       "         ...,\n",
       "         [137., 136., 150.],\n",
       "         [146., 145., 159.],\n",
       "         [152., 151., 165.]],\n",
       "\n",
       "        ...,\n",
       "\n",
       "        [[186., 183., 192.],\n",
       "         [184., 181., 190.],\n",
       "         [180., 177., 186.],\n",
       "         ...,\n",
       "         [185., 180., 186.],\n",
       "         [173., 168., 174.],\n",
       "         [172., 167., 173.]],\n",
       "\n",
       "        [[185., 182., 191.],\n",
       "         [182., 179., 188.],\n",
       "         [179., 176., 185.],\n",
       "         ...,\n",
       "         [168., 163., 169.],\n",
       "         [160., 155., 161.],\n",
       "         [162., 157., 163.]],\n",
       "\n",
       "        [[184., 181., 190.],\n",
       "         [183., 180., 189.],\n",
       "         [182., 179., 188.],\n",
       "         ...,\n",
       "         [165., 160., 166.],\n",
       "         [168., 163., 169.],\n",
       "         [180., 175., 181.]]],\n",
       "\n",
       "\n",
       "       [[[135., 133., 146.],\n",
       "         [146., 144., 157.],\n",
       "         [158., 156., 169.],\n",
       "         ...,\n",
       "         [185., 189., 200.],\n",
       "         [181., 185., 196.],\n",
       "         [175., 179., 190.]],\n",
       "\n",
       "        [[148., 146., 159.],\n",
       "         [151., 149., 162.],\n",
       "         [156., 154., 167.],\n",
       "         ...,\n",
       "         [181., 185., 196.],\n",
       "         [176., 180., 191.],\n",
       "         [169., 173., 184.]],\n",
       "\n",
       "        [[157., 155., 168.],\n",
       "         [151., 149., 162.],\n",
       "         [149., 147., 160.],\n",
       "         ...,\n",
       "         [179., 183., 194.],\n",
       "         [173., 177., 188.],\n",
       "         [166., 170., 181.]],\n",
       "\n",
       "        ...,\n",
       "\n",
       "        [[129., 126., 137.],\n",
       "         [110., 107., 118.],\n",
       "         [109., 106., 117.],\n",
       "         ...,\n",
       "         [141., 139., 150.],\n",
       "         [141., 139., 150.],\n",
       "         [138., 136., 147.]],\n",
       "\n",
       "        [[122., 119., 130.],\n",
       "         [109., 106., 117.],\n",
       "         [109., 106., 117.],\n",
       "         ...,\n",
       "         [142., 140., 151.],\n",
       "         [145., 143., 154.],\n",
       "         [144., 142., 153.]],\n",
       "\n",
       "        [[117., 114., 125.],\n",
       "         [123., 120., 131.],\n",
       "         [122., 119., 130.],\n",
       "         ...,\n",
       "         [135., 133., 144.],\n",
       "         [143., 141., 152.],\n",
       "         [146., 144., 155.]]]], dtype=float32)"
      ]
     },
     "execution_count": 37,
     "metadata": {},
     "output_type": "execute_result"
    }
   ],
   "source": [
    "image_batch[:2].numpy()    #Notice the increase in dimension"
   ]
  },
  {
   "cell_type": "code",
   "execution_count": null,
   "id": "00f055c6-fc83-4cf7-ad5f-3c2de247cd9e",
   "metadata": {},
   "outputs": [],
   "source": []
  }
 ],
 "metadata": {
  "kernelspec": {
   "display_name": "Python [conda env:tensorflow_env]",
   "language": "python",
   "name": "conda-env-tensorflow_env-py"
  },
  "language_info": {
   "codemirror_mode": {
    "name": "ipython",
    "version": 3
   },
   "file_extension": ".py",
   "mimetype": "text/x-python",
   "name": "python",
   "nbconvert_exporter": "python",
   "pygments_lexer": "ipython3",
   "version": "3.10.16"
  }
 },
 "nbformat": 4,
 "nbformat_minor": 5
}
